{
  "nbformat": 4,
  "nbformat_minor": 0,
  "metadata": {
    "colab": {
      "name": "Exploration_1.ipynb",
      "provenance": [],
      "collapsed_sections": [],
      "include_colab_link": true
    },
    "kernelspec": {
      "name": "python3",
      "display_name": "Python 3"
    },
    "language_info": {
      "name": "python"
    }
  },
  "cells": [
    {
      "cell_type": "markdown",
      "metadata": {
        "id": "view-in-github",
        "colab_type": "text"
      },
      "source": [
        "<a href=\"https://colab.research.google.com/github/647qqq/Math152-Programming4Math/blob/main/Exploration_1.ipynb\" target=\"_parent\"><img src=\"https://colab.research.google.com/assets/colab-badge.svg\" alt=\"Open In Colab\"/></a>"
      ]
    },
    {
      "cell_type": "markdown",
      "source": [
        "## The $3n + 1$ Conjecture \n",
        "### by Group Horrendum (Thomas Diem, Yijia Sun, Kaiyuan Bai, Siqi Liu)\n"
      ],
      "metadata": {
        "id": "f-AdxPjiDUU1"
      }
    },
    {
      "cell_type": "markdown",
      "source": [
        "### Introduction\n",
        "\n",
        "In this project, we will explore the $3n + 1$ conjecture, also known as the Collatz conjecture. Let us introduce the $3n + 1$ conjecture first. The conjecture begins with a positive integer $n$ and will generate a sequence of numbers. If $n$ is even, divide $n$ by two, i.e., $\\frac{n}{2}$, and this will be the new $n$. If $n$ is odd, multiple $n$ by $3$ plus $1$, i.e., $3n + 1$, and this will be the new $n$. Then repeat the above process. We found that for any positive integer $n$, the resulting sequence will eventually enters a cycle $4, 2, 1, 4, 2, 1, \\cdots$. \n",
        "\n",
        "In this section, we will use python to implement the $3n + 1$ conjecture for all positive integer $n$ by defining a function."
      ],
      "metadata": {
        "id": "bXrVmP7JEAGF"
      }
    },
    {
      "cell_type": "code",
      "execution_count": 1,
      "metadata": {
        "id": "olVqWzRZRn0G",
        "colab": {
          "base_uri": "https://localhost:8080/"
        },
        "outputId": "b96bd669-bc1a-454c-eabb-44b45d7a66c3"
      },
      "outputs": [
        {
          "output_type": "stream",
          "name": "stdout",
          "text": [
            "The number 1 takes 0 steps to reach 1.\n",
            "The number 2 takes 1 steps to reach 1.\n",
            "The number 3 takes 7 steps to reach 1.\n",
            "The number 4 takes 2 steps to reach 1.\n",
            "The number 5 takes 5 steps to reach 1.\n",
            "The number 6 takes 8 steps to reach 1.\n",
            "The number 7 takes 16 steps to reach 1.\n",
            "The number 8 takes 3 steps to reach 1.\n",
            "The number 9 takes 19 steps to reach 1.\n"
          ]
        }
      ],
      "source": [
        "#Thomas Diem\n",
        "\n",
        "for n in range(1, 10):\n",
        "  i = 0\n",
        "  m = n\n",
        "  while n !=1:\n",
        "    if n % 2 == 0:\n",
        "      n = n/2\n",
        "      i +=1 \n",
        "    else:\n",
        "      n = 3*n +1\n",
        "      i +=1 \n",
        "  print(f\"The number {m} takes {i} steps to reach 1.\")"
      ]
    },
    {
      "cell_type": "code",
      "source": [
        "#Yijia Sun\n",
        "\n",
        "def conjec(n):\n",
        "  list = []\n",
        "  while n > 1: #This step allows the loop to stop before the cycle 4,2,1.\n",
        "    if n % 2 == 0: #if n is even\n",
        "      n = n / 2\n",
        "    elif n % 2 == 1: #if n is odd\n",
        "      n = 3 * n + 1\n",
        "    list.append(int(n)) #add the integer form of n into the empty list\n",
        "  return list\n",
        "conjec(60)"
      ],
      "metadata": {
        "id": "uyAKZm9EX1-B",
        "colab": {
          "base_uri": "https://localhost:8080/"
        },
        "outputId": "1bef8800-4aa7-422d-8d42-f6d8574485ac"
      },
      "execution_count": 2,
      "outputs": [
        {
          "output_type": "execute_result",
          "data": {
            "text/plain": [
              "[30, 15, 46, 23, 70, 35, 106, 53, 160, 80, 40, 20, 10, 5, 16, 8, 4, 2, 1]"
            ]
          },
          "metadata": {},
          "execution_count": 2
        }
      ]
    },
    {
      "cell_type": "code",
      "source": [
        "# kaiyuan Bai\n",
        "def check_conjecture(n):\n",
        "    while n != 4:\n",
        "        if n % 2 == 0:\n",
        "            n = n // 2\n",
        "        elif n % 2 == 1:\n",
        "            n = 3*n + 1\n",
        "\n",
        "    return True\n",
        "\n",
        "check_conjecture(10001)"
      ],
      "metadata": {
        "id": "UheHgKRuXOWp",
        "colab": {
          "base_uri": "https://localhost:8080/"
        },
        "outputId": "0a78afec-e61b-4e3e-92cd-83963e488e27"
      },
      "execution_count": 3,
      "outputs": [
        {
          "output_type": "execute_result",
          "data": {
            "text/plain": [
              "True"
            ]
          },
          "metadata": {},
          "execution_count": 3
        }
      ]
    },
    {
      "cell_type": "code",
      "source": [
        "# Siqi Liu\n",
        "\n",
        "# For all integers n > 0\n",
        "\n",
        "def conjecture(n):\n",
        "\n",
        "  print(\"Let's start with {}.\".format(n))\n",
        "  i = 0 # initialize the loop\n",
        "  \n",
        "  while n > 1: # n is a positive integer \n",
        "  # n > 1 becasue the sequence will enter a cycle of 4,2,1,4,2,1, ... \n",
        "  # and a positive number /, *, + a positive number is always a positive number (i.e., n > 0)\n",
        "  # if n > 0, the while loop will not stop. \n",
        "\n",
        "    i += 1 # loop \n",
        "\n",
        "    if n % 2 == 0: # n is even \n",
        "\n",
        "      new_n = n / 2\n",
        "      print(\"{} loop: {} / 2 = {}\".format(i, int(n), int(new_n)))\n",
        "      n = new_n\n",
        "\n",
        "    else: # n is odd\n",
        "\n",
        "      new_n = 3*n + 1\n",
        "      print(\"{} loop: 3 * {} + 1 = {}\".format(i, int(n), int(new_n)))\n",
        "      n = new_n"
      ],
      "metadata": {
        "id": "uMWOw5VEYsoQ"
      },
      "execution_count": 4,
      "outputs": []
    },
    {
      "cell_type": "code",
      "source": [
        "conjecture(10**6 + 1)"
      ],
      "metadata": {
        "colab": {
          "base_uri": "https://localhost:8080/"
        },
        "id": "7lHngxr2Yup6",
        "outputId": "bcd647ac-f3e8-4b10-d907-d7452167c7f1"
      },
      "execution_count": 5,
      "outputs": [
        {
          "output_type": "stream",
          "name": "stdout",
          "text": [
            "Let's start with 1000001.\n",
            "1 loop: 3 * 1000001 + 1 = 3000004\n",
            "2 loop: 3000004 / 2 = 1500002\n",
            "3 loop: 1500002 / 2 = 750001\n",
            "4 loop: 3 * 750001 + 1 = 2250004\n",
            "5 loop: 2250004 / 2 = 1125002\n",
            "6 loop: 1125002 / 2 = 562501\n",
            "7 loop: 3 * 562501 + 1 = 1687504\n",
            "8 loop: 1687504 / 2 = 843752\n",
            "9 loop: 843752 / 2 = 421876\n",
            "10 loop: 421876 / 2 = 210938\n",
            "11 loop: 210938 / 2 = 105469\n",
            "12 loop: 3 * 105469 + 1 = 316408\n",
            "13 loop: 316408 / 2 = 158204\n",
            "14 loop: 158204 / 2 = 79102\n",
            "15 loop: 79102 / 2 = 39551\n",
            "16 loop: 3 * 39551 + 1 = 118654\n",
            "17 loop: 118654 / 2 = 59327\n",
            "18 loop: 3 * 59327 + 1 = 177982\n",
            "19 loop: 177982 / 2 = 88991\n",
            "20 loop: 3 * 88991 + 1 = 266974\n",
            "21 loop: 266974 / 2 = 133487\n",
            "22 loop: 3 * 133487 + 1 = 400462\n",
            "23 loop: 400462 / 2 = 200231\n",
            "24 loop: 3 * 200231 + 1 = 600694\n",
            "25 loop: 600694 / 2 = 300347\n",
            "26 loop: 3 * 300347 + 1 = 901042\n",
            "27 loop: 901042 / 2 = 450521\n",
            "28 loop: 3 * 450521 + 1 = 1351564\n",
            "29 loop: 1351564 / 2 = 675782\n",
            "30 loop: 675782 / 2 = 337891\n",
            "31 loop: 3 * 337891 + 1 = 1013674\n",
            "32 loop: 1013674 / 2 = 506837\n",
            "33 loop: 3 * 506837 + 1 = 1520512\n",
            "34 loop: 1520512 / 2 = 760256\n",
            "35 loop: 760256 / 2 = 380128\n",
            "36 loop: 380128 / 2 = 190064\n",
            "37 loop: 190064 / 2 = 95032\n",
            "38 loop: 95032 / 2 = 47516\n",
            "39 loop: 47516 / 2 = 23758\n",
            "40 loop: 23758 / 2 = 11879\n",
            "41 loop: 3 * 11879 + 1 = 35638\n",
            "42 loop: 35638 / 2 = 17819\n",
            "43 loop: 3 * 17819 + 1 = 53458\n",
            "44 loop: 53458 / 2 = 26729\n",
            "45 loop: 3 * 26729 + 1 = 80188\n",
            "46 loop: 80188 / 2 = 40094\n",
            "47 loop: 40094 / 2 = 20047\n",
            "48 loop: 3 * 20047 + 1 = 60142\n",
            "49 loop: 60142 / 2 = 30071\n",
            "50 loop: 3 * 30071 + 1 = 90214\n",
            "51 loop: 90214 / 2 = 45107\n",
            "52 loop: 3 * 45107 + 1 = 135322\n",
            "53 loop: 135322 / 2 = 67661\n",
            "54 loop: 3 * 67661 + 1 = 202984\n",
            "55 loop: 202984 / 2 = 101492\n",
            "56 loop: 101492 / 2 = 50746\n",
            "57 loop: 50746 / 2 = 25373\n",
            "58 loop: 3 * 25373 + 1 = 76120\n",
            "59 loop: 76120 / 2 = 38060\n",
            "60 loop: 38060 / 2 = 19030\n",
            "61 loop: 19030 / 2 = 9515\n",
            "62 loop: 3 * 9515 + 1 = 28546\n",
            "63 loop: 28546 / 2 = 14273\n",
            "64 loop: 3 * 14273 + 1 = 42820\n",
            "65 loop: 42820 / 2 = 21410\n",
            "66 loop: 21410 / 2 = 10705\n",
            "67 loop: 3 * 10705 + 1 = 32116\n",
            "68 loop: 32116 / 2 = 16058\n",
            "69 loop: 16058 / 2 = 8029\n",
            "70 loop: 3 * 8029 + 1 = 24088\n",
            "71 loop: 24088 / 2 = 12044\n",
            "72 loop: 12044 / 2 = 6022\n",
            "73 loop: 6022 / 2 = 3011\n",
            "74 loop: 3 * 3011 + 1 = 9034\n",
            "75 loop: 9034 / 2 = 4517\n",
            "76 loop: 3 * 4517 + 1 = 13552\n",
            "77 loop: 13552 / 2 = 6776\n",
            "78 loop: 6776 / 2 = 3388\n",
            "79 loop: 3388 / 2 = 1694\n",
            "80 loop: 1694 / 2 = 847\n",
            "81 loop: 3 * 847 + 1 = 2542\n",
            "82 loop: 2542 / 2 = 1271\n",
            "83 loop: 3 * 1271 + 1 = 3814\n",
            "84 loop: 3814 / 2 = 1907\n",
            "85 loop: 3 * 1907 + 1 = 5722\n",
            "86 loop: 5722 / 2 = 2861\n",
            "87 loop: 3 * 2861 + 1 = 8584\n",
            "88 loop: 8584 / 2 = 4292\n",
            "89 loop: 4292 / 2 = 2146\n",
            "90 loop: 2146 / 2 = 1073\n",
            "91 loop: 3 * 1073 + 1 = 3220\n",
            "92 loop: 3220 / 2 = 1610\n",
            "93 loop: 1610 / 2 = 805\n",
            "94 loop: 3 * 805 + 1 = 2416\n",
            "95 loop: 2416 / 2 = 1208\n",
            "96 loop: 1208 / 2 = 604\n",
            "97 loop: 604 / 2 = 302\n",
            "98 loop: 302 / 2 = 151\n",
            "99 loop: 3 * 151 + 1 = 454\n",
            "100 loop: 454 / 2 = 227\n",
            "101 loop: 3 * 227 + 1 = 682\n",
            "102 loop: 682 / 2 = 341\n",
            "103 loop: 3 * 341 + 1 = 1024\n",
            "104 loop: 1024 / 2 = 512\n",
            "105 loop: 512 / 2 = 256\n",
            "106 loop: 256 / 2 = 128\n",
            "107 loop: 128 / 2 = 64\n",
            "108 loop: 64 / 2 = 32\n",
            "109 loop: 32 / 2 = 16\n",
            "110 loop: 16 / 2 = 8\n",
            "111 loop: 8 / 2 = 4\n",
            "112 loop: 4 / 2 = 2\n",
            "113 loop: 2 / 2 = 1\n"
          ]
        }
      ]
    },
    {
      "cell_type": "markdown",
      "source": [
        "### Negative integers $n$\n",
        "\n",
        "From the above section, we have seen that for all positive integers $n$, the $3n+1$ conjecture will generate a sequence that goes into a cycle of $4,2,1$. Now let us see what happens if $n$ is a negative integer? \n",
        "\n",
        "First, we will check if the sequence will end up entering a loop. If there are two same numbers $a$ in the sequence, this means the sequence enters a loop at the second $a$. \n",
        "\n",
        "In Python, we will convert the sequence into a list and use the list to check if the sequence will enter a loop and when.  Every time we get an `n`, if `n` is not in the list, `n` will be added to the list and will generate the next `n`. If `n` is already in the list, this means the sequence enters a loop and we will stop right there. We will modify the above `conjecture()` function. "
      ],
      "metadata": {
        "id": "E-BHw0h0VA3e"
      }
    },
    {
      "cell_type": "code",
      "source": [
        "# Let's allow negative numbers in the 3n + 1 conjecture. \n",
        "\n",
        "def conjecture_2(n):\n",
        "\n",
        "  print(\"Let's start with {}.\".format(n))\n",
        "  i = 0 # initialize the loop\n",
        "\n",
        "  conjecture_list = list() # initialize the sequence of numbers\n",
        "\n",
        "  while n: # n is an integer\n",
        "\n",
        "      i += 1 # loop \n",
        "\n",
        "      if n not in conjecture_list:\n",
        "        \n",
        "        conjecture_list.append(int(n)) # add n to the conjecture list\n",
        "\n",
        "      else: # if n equals to any previous number\n",
        "\n",
        "        break # stop the loop \n",
        "\n",
        "      if n % 2 == 0: # n is even \n",
        "\n",
        "        new_n = n / 2\n",
        "        print(\"{} loop: {} / 2 = {}\".format(i, int(n), int(new_n)))\n",
        "        n = new_n\n",
        "\n",
        "      else: # n is odd\n",
        "\n",
        "        new_n = 3*n + 1\n",
        "        print(\"{} loop: 3 * {} + 1 = {}\".format(i, int(n), int(new_n)))\n",
        "        n = new_n\n",
        "      \n",
        "  print(conjecture_list)\n",
        "  print(\"The sequence enters a cycle from {}.\".format(int(n)))"
      ],
      "metadata": {
        "id": "0wUcTvQ1T79j"
      },
      "execution_count": 6,
      "outputs": []
    },
    {
      "cell_type": "code",
      "source": [
        "conjecture_2(-26)"
      ],
      "metadata": {
        "colab": {
          "base_uri": "https://localhost:8080/"
        },
        "id": "sELVtqb5ZdrO",
        "outputId": "a9ce17f7-8df9-40e4-c2d9-0ed687b10258"
      },
      "execution_count": 7,
      "outputs": [
        {
          "output_type": "stream",
          "name": "stdout",
          "text": [
            "Let's start with -26.\n",
            "1 loop: -26 / 2 = -13\n",
            "2 loop: 3 * -13 + 1 = -38\n",
            "3 loop: -38 / 2 = -19\n",
            "4 loop: 3 * -19 + 1 = -56\n",
            "5 loop: -56 / 2 = -28\n",
            "6 loop: -28 / 2 = -14\n",
            "7 loop: -14 / 2 = -7\n",
            "8 loop: 3 * -7 + 1 = -20\n",
            "9 loop: -20 / 2 = -10\n",
            "10 loop: -10 / 2 = -5\n",
            "11 loop: 3 * -5 + 1 = -14\n",
            "[-26, -13, -38, -19, -56, -28, -14, -7, -20, -10, -5]\n",
            "The sequence enters a cycle from -14.\n"
          ]
        }
      ]
    },
    {
      "cell_type": "code",
      "source": [
        "conjecture_2(-(2)**10)"
      ],
      "metadata": {
        "colab": {
          "base_uri": "https://localhost:8080/"
        },
        "id": "TFLIjuO3dkO3",
        "outputId": "83c1e269-cff0-47be-b9cd-36cace94a62b"
      },
      "execution_count": 8,
      "outputs": [
        {
          "output_type": "stream",
          "name": "stdout",
          "text": [
            "Let's start with -1024.\n",
            "1 loop: -1024 / 2 = -512\n",
            "2 loop: -512 / 2 = -256\n",
            "3 loop: -256 / 2 = -128\n",
            "4 loop: -128 / 2 = -64\n",
            "5 loop: -64 / 2 = -32\n",
            "6 loop: -32 / 2 = -16\n",
            "7 loop: -16 / 2 = -8\n",
            "8 loop: -8 / 2 = -4\n",
            "9 loop: -4 / 2 = -2\n",
            "10 loop: -2 / 2 = -1\n",
            "11 loop: 3 * -1 + 1 = -2\n",
            "[-1024, -512, -256, -128, -64, -32, -16, -8, -4, -2, -1]\n",
            "The sequence enters a cycle from -2.\n"
          ]
        }
      ]
    },
    {
      "cell_type": "code",
      "source": [
        "#Let's define a new function which only returns the number where the loop goes into a cycle.\n",
        "def new_conjecture(n):\n",
        "\n",
        "  i = 0 # initialize the loop\n",
        "\n",
        "  conjecture_list = list() # initialize the sequence of numbers\n",
        "\n",
        "  while n: # n is an integer\n",
        "\n",
        "      i += 1 # loop \n",
        "\n",
        "      if n not in conjecture_list:\n",
        "        \n",
        "        conjecture_list.append(int(n)) # add n into the conjecture list\n",
        "\n",
        "      else: # if the new number equals to any previous number\n",
        "\n",
        "        break \n",
        "\n",
        "      if n % 2 == 0: # n is even \n",
        "\n",
        "        new_n = n / 2\n",
        "        n = new_n\n",
        "\n",
        "      else: # n is odd\n",
        "\n",
        "        new_n = 3*n + 1\n",
        "        n = new_n\n",
        "      \n",
        "  return int(n) #return the number which already exists in the sequence, or where the loop goes into cycle"
      ],
      "metadata": {
        "id": "3IJAPTXpkNZe"
      },
      "execution_count": 9,
      "outputs": []
    },
    {
      "cell_type": "code",
      "source": [
        "def check_conjec(n): #create a function that categorize all numbers up to n by the number where the loop goes into cycle\n",
        "  list_1 = [] #create an empty list for numbers' cycle starts from -2\n",
        "  list_2 = [] #create an empty list for numbers' cycle starts from itself\n",
        "  list_3 = [] #create an empty list for numbers' cycle starts from -14\n",
        "  list_4 = [] #create an empty list for numbers' cycle starts from unpredictable number\n",
        "  for x in range(n,0):\n",
        "    if new_conjecture(x) == -2:\n",
        "      list_1.append(x)\n",
        "    elif new_conjecture(x) == x:\n",
        "      list_2.append(x)\n",
        "    elif new_conjecture(x) == -14:\n",
        "      list_3.append(x)\n",
        "    else:\n",
        "      list_4.append(x)\n",
        "  print(\"These numbers' cycle starts from -2:\", list_1)\n",
        "  print(\"These numbers' cycle starts from itself:\", list_2)\n",
        "  print(\"These numbers' cycle starts from -14:\", list_3)\n",
        "  print(\"These numbers' cycle starts from unpredictable number:\", list_4)"
      ],
      "metadata": {
        "id": "MydX-Zh0kRF0"
      },
      "execution_count": 10,
      "outputs": []
    },
    {
      "cell_type": "markdown",
      "source": [
        "Now let us see the cyclical patterns of the $3n + 1$ conjecture for the first $50$ negative integers (exclude $-1$), i.e., $-2, -3, \\cdots, -50$."
      ],
      "metadata": {
        "id": "EghZNUnhO0ah"
      }
    },
    {
      "cell_type": "code",
      "source": [
        "check_conjec(-50)"
      ],
      "metadata": {
        "id": "_LCjEBXtkY28",
        "outputId": "8fabb03d-190a-45bd-c895-3872df9eeb44",
        "colab": {
          "base_uri": "https://localhost:8080/"
        }
      },
      "execution_count": 11,
      "outputs": [
        {
          "output_type": "stream",
          "name": "stdout",
          "text": [
            "These numbers' cycle starts from -2: [-48, -44, -43, -39, -32, -30, -29, -24, -22, -16, -15, -12, -11, -8, -6, -4, -3, -2]\n",
            "These numbers' cycle starts from itself: [-50, -41, -37, -34, -25, -20, -17, -14, -10, -7, -5, -1]\n",
            "These numbers' cycle starts from -14: [-47, -38, -36, -35, -28, -26, -19, -18, -13, -9]\n",
            "These numbers' cycle starts from unpredictable number: [-49, -46, -45, -42, -40, -33, -31, -27, -23, -21]\n"
          ]
        }
      ]
    },
    {
      "cell_type": "markdown",
      "source": [
        "If we allow negative numbers, it will also create an infinitely loop. For any positive numbers, as the loop goes, the loop will enter a cycle  4,2,1,4,2,1... However, for negative numbers, the loop will enter a random cycle that we cannot predict. \\\n",
        "We checked all negative integers bigger than (-50) and didn't find any specific pattern. "
      ],
      "metadata": {
        "id": "Ks3fGQq0ah1J"
      }
    },
    {
      "cell_type": "markdown",
      "source": [
        "### Dropping time of $n$ \n",
        "\n",
        "In this section, we will explore the dropping time of a positive integer $n$. Let us denote the dropping time as $σ(n)$. Dropping time $σ(n)$ is the position where the sequence starts at $n$ to drops to a smaller number. To be specific, the position of the first number that is smaller than $n$ is the dropping time of $n$.\n",
        "\n",
        "In Python, we want to find the position of that number. `n` will be changing as the while loop goes, so we will set a variable `initial_n` to the value of `n`, which is the same as the $n$ in $σ(n)$. Every time we get a new `n`, Python will compare the new `n` and `initial_n`. If `n` < `initial_n`, Python will return the position, and this is $σ(n)$. Otherwise, the while loop will keep going. "
      ],
      "metadata": {
        "id": "rHeta-PRjb8z"
      }
    },
    {
      "cell_type": "code",
      "source": [
        "def dropping_time(n):\n",
        "\n",
        "  i = 0 # initilize the loop\n",
        "  initial_n = n # original n\n",
        "  \n",
        "  while n > 1: # n is a positive integer \n",
        "\n",
        "    i += 1 # loop \n",
        "\n",
        "    if n % 2 == 0: # n is even \n",
        "\n",
        "      n = n / 2\n",
        "\n",
        "    else: # n is odd\n",
        "\n",
        "      n = 3*n + 1\n",
        "\n",
        "    if n < initial_n: \n",
        "      return i"
      ],
      "metadata": {
        "id": "MmUUCxdbgjlM"
      },
      "execution_count": 12,
      "outputs": []
    },
    {
      "cell_type": "code",
      "source": [
        "dropping_time(17)"
      ],
      "metadata": {
        "colab": {
          "base_uri": "https://localhost:8080/"
        },
        "id": "B4Qb5EeegmqG",
        "outputId": "6f70c3a3-c653-4bf6-a4e1-2db3dddfde01"
      },
      "execution_count": 13,
      "outputs": [
        {
          "output_type": "execute_result",
          "data": {
            "text/plain": [
              "3"
            ]
          },
          "metadata": {},
          "execution_count": 13
        }
      ]
    },
    {
      "cell_type": "markdown",
      "source": [
        "Notice that if the positive integer $n$ is even, $\\sigma(n) = 1$. This is because if $n$ is even, the next $n$ is $\\frac{n}{2}$ and $\\frac{n}{2} < n$. We will check the dropping time of the first $50$ even numbers."
      ],
      "metadata": {
        "id": "wTdhjk5GSdgz"
      }
    },
    {
      "cell_type": "code",
      "source": [
        "even_num = list(range(2,101,2))\n",
        "for num in even_num:\n",
        "  print(\"The dropping time of {} is {}.\".format(num, dropping_time(num)))"
      ],
      "metadata": {
        "colab": {
          "base_uri": "https://localhost:8080/"
        },
        "id": "JqxZfmCUSuQt",
        "outputId": "541d8382-c744-43a0-b749-d0be8facf318"
      },
      "execution_count": 14,
      "outputs": [
        {
          "output_type": "stream",
          "name": "stdout",
          "text": [
            "The dropping time of 2 is 1.\n",
            "The dropping time of 4 is 1.\n",
            "The dropping time of 6 is 1.\n",
            "The dropping time of 8 is 1.\n",
            "The dropping time of 10 is 1.\n",
            "The dropping time of 12 is 1.\n",
            "The dropping time of 14 is 1.\n",
            "The dropping time of 16 is 1.\n",
            "The dropping time of 18 is 1.\n",
            "The dropping time of 20 is 1.\n",
            "The dropping time of 22 is 1.\n",
            "The dropping time of 24 is 1.\n",
            "The dropping time of 26 is 1.\n",
            "The dropping time of 28 is 1.\n",
            "The dropping time of 30 is 1.\n",
            "The dropping time of 32 is 1.\n",
            "The dropping time of 34 is 1.\n",
            "The dropping time of 36 is 1.\n",
            "The dropping time of 38 is 1.\n",
            "The dropping time of 40 is 1.\n",
            "The dropping time of 42 is 1.\n",
            "The dropping time of 44 is 1.\n",
            "The dropping time of 46 is 1.\n",
            "The dropping time of 48 is 1.\n",
            "The dropping time of 50 is 1.\n",
            "The dropping time of 52 is 1.\n",
            "The dropping time of 54 is 1.\n",
            "The dropping time of 56 is 1.\n",
            "The dropping time of 58 is 1.\n",
            "The dropping time of 60 is 1.\n",
            "The dropping time of 62 is 1.\n",
            "The dropping time of 64 is 1.\n",
            "The dropping time of 66 is 1.\n",
            "The dropping time of 68 is 1.\n",
            "The dropping time of 70 is 1.\n",
            "The dropping time of 72 is 1.\n",
            "The dropping time of 74 is 1.\n",
            "The dropping time of 76 is 1.\n",
            "The dropping time of 78 is 1.\n",
            "The dropping time of 80 is 1.\n",
            "The dropping time of 82 is 1.\n",
            "The dropping time of 84 is 1.\n",
            "The dropping time of 86 is 1.\n",
            "The dropping time of 88 is 1.\n",
            "The dropping time of 90 is 1.\n",
            "The dropping time of 92 is 1.\n",
            "The dropping time of 94 is 1.\n",
            "The dropping time of 96 is 1.\n",
            "The dropping time of 98 is 1.\n",
            "The dropping time of 100 is 1.\n"
          ]
        }
      ]
    },
    {
      "cell_type": "code",
      "source": [
        "for a in range(5, 101, 4): # n = 1(mod 4)\n",
        "  print(\"The dropping time of {} is {}.\".format(a, dropping_time(a)))"
      ],
      "metadata": {
        "colab": {
          "base_uri": "https://localhost:8080/"
        },
        "id": "ziBgQRZVj8bU",
        "outputId": "8eff98a5-ac84-461b-a99b-a1063b70477b"
      },
      "execution_count": 15,
      "outputs": [
        {
          "output_type": "stream",
          "name": "stdout",
          "text": [
            "The dropping time of 5 is 3.\n",
            "The dropping time of 9 is 3.\n",
            "The dropping time of 13 is 3.\n",
            "The dropping time of 17 is 3.\n",
            "The dropping time of 21 is 3.\n",
            "The dropping time of 25 is 3.\n",
            "The dropping time of 29 is 3.\n",
            "The dropping time of 33 is 3.\n",
            "The dropping time of 37 is 3.\n",
            "The dropping time of 41 is 3.\n",
            "The dropping time of 45 is 3.\n",
            "The dropping time of 49 is 3.\n",
            "The dropping time of 53 is 3.\n",
            "The dropping time of 57 is 3.\n",
            "The dropping time of 61 is 3.\n",
            "The dropping time of 65 is 3.\n",
            "The dropping time of 69 is 3.\n",
            "The dropping time of 73 is 3.\n",
            "The dropping time of 77 is 3.\n",
            "The dropping time of 81 is 3.\n",
            "The dropping time of 85 is 3.\n",
            "The dropping time of 89 is 3.\n",
            "The dropping time of 93 is 3.\n",
            "The dropping time of 97 is 3.\n"
          ]
        }
      ]
    },
    {
      "cell_type": "code",
      "source": [
        "for a in range(3, 103, 4): # n = 3(mod 4)\n",
        "  print(\"The dropping time of {} is {}.\".format(a, dropping_time(a)))"
      ],
      "metadata": {
        "colab": {
          "base_uri": "https://localhost:8080/"
        },
        "id": "e4uVQVEskApi",
        "outputId": "5569891f-6aaa-41b7-86e2-7e58c1153990"
      },
      "execution_count": 16,
      "outputs": [
        {
          "output_type": "stream",
          "name": "stdout",
          "text": [
            "The dropping time of 3 is 6.\n",
            "The dropping time of 7 is 11.\n",
            "The dropping time of 11 is 8.\n",
            "The dropping time of 15 is 11.\n",
            "The dropping time of 19 is 6.\n",
            "The dropping time of 23 is 8.\n",
            "The dropping time of 27 is 96.\n",
            "The dropping time of 31 is 91.\n",
            "The dropping time of 35 is 6.\n",
            "The dropping time of 39 is 13.\n",
            "The dropping time of 43 is 8.\n",
            "The dropping time of 47 is 88.\n",
            "The dropping time of 51 is 6.\n",
            "The dropping time of 55 is 8.\n",
            "The dropping time of 59 is 11.\n",
            "The dropping time of 63 is 88.\n",
            "The dropping time of 67 is 6.\n",
            "The dropping time of 71 is 83.\n",
            "The dropping time of 75 is 8.\n",
            "The dropping time of 79 is 13.\n",
            "The dropping time of 83 is 6.\n",
            "The dropping time of 87 is 8.\n",
            "The dropping time of 91 is 73.\n",
            "The dropping time of 95 is 13.\n",
            "The dropping time of 99 is 6.\n"
          ]
        }
      ]
    },
    {
      "cell_type": "code",
      "source": [
        "for a in range(3, 500, 16): # n = 3(mod 16)\n",
        "  print(\"The dropping time of {} is {}.\".format(a, dropping_time(a)))"
      ],
      "metadata": {
        "colab": {
          "base_uri": "https://localhost:8080/"
        },
        "id": "v2ZUNdZXaRd2",
        "outputId": "c1b85eed-9453-418d-ff9d-dcffaf89052d"
      },
      "execution_count": 17,
      "outputs": [
        {
          "output_type": "stream",
          "name": "stdout",
          "text": [
            "The dropping time of 3 is 6.\n",
            "The dropping time of 19 is 6.\n",
            "The dropping time of 35 is 6.\n",
            "The dropping time of 51 is 6.\n",
            "The dropping time of 67 is 6.\n",
            "The dropping time of 83 is 6.\n",
            "The dropping time of 99 is 6.\n",
            "The dropping time of 115 is 6.\n",
            "The dropping time of 131 is 6.\n",
            "The dropping time of 147 is 6.\n",
            "The dropping time of 163 is 6.\n",
            "The dropping time of 179 is 6.\n",
            "The dropping time of 195 is 6.\n",
            "The dropping time of 211 is 6.\n",
            "The dropping time of 227 is 6.\n",
            "The dropping time of 243 is 6.\n",
            "The dropping time of 259 is 6.\n",
            "The dropping time of 275 is 6.\n",
            "The dropping time of 291 is 6.\n",
            "The dropping time of 307 is 6.\n",
            "The dropping time of 323 is 6.\n",
            "The dropping time of 339 is 6.\n",
            "The dropping time of 355 is 6.\n",
            "The dropping time of 371 is 6.\n",
            "The dropping time of 387 is 6.\n",
            "The dropping time of 403 is 6.\n",
            "The dropping time of 419 is 6.\n",
            "The dropping time of 435 is 6.\n",
            "The dropping time of 451 is 6.\n",
            "The dropping time of 467 is 6.\n",
            "The dropping time of 483 is 6.\n",
            "The dropping time of 499 is 6.\n"
          ]
        }
      ]
    },
    {
      "cell_type": "code",
      "source": [
        "for a in range(11,1000,32): # n = 11(mod 32)\n",
        "  print(\"The dropping time of {} is {}.\".format(a, dropping_time(a)))"
      ],
      "metadata": {
        "colab": {
          "base_uri": "https://localhost:8080/"
        },
        "id": "etX8yk42eaUA",
        "outputId": "7da5344c-c23d-4f76-eec1-cc05049a366f"
      },
      "execution_count": 18,
      "outputs": [
        {
          "output_type": "stream",
          "name": "stdout",
          "text": [
            "The dropping time of 11 is 8.\n",
            "The dropping time of 43 is 8.\n",
            "The dropping time of 75 is 8.\n",
            "The dropping time of 107 is 8.\n",
            "The dropping time of 139 is 8.\n",
            "The dropping time of 171 is 8.\n",
            "The dropping time of 203 is 8.\n",
            "The dropping time of 235 is 8.\n",
            "The dropping time of 267 is 8.\n",
            "The dropping time of 299 is 8.\n",
            "The dropping time of 331 is 8.\n",
            "The dropping time of 363 is 8.\n",
            "The dropping time of 395 is 8.\n",
            "The dropping time of 427 is 8.\n",
            "The dropping time of 459 is 8.\n",
            "The dropping time of 491 is 8.\n",
            "The dropping time of 523 is 8.\n",
            "The dropping time of 555 is 8.\n",
            "The dropping time of 587 is 8.\n",
            "The dropping time of 619 is 8.\n",
            "The dropping time of 651 is 8.\n",
            "The dropping time of 683 is 8.\n",
            "The dropping time of 715 is 8.\n",
            "The dropping time of 747 is 8.\n",
            "The dropping time of 779 is 8.\n",
            "The dropping time of 811 is 8.\n",
            "The dropping time of 843 is 8.\n",
            "The dropping time of 875 is 8.\n",
            "The dropping time of 907 is 8.\n",
            "The dropping time of 939 is 8.\n",
            "The dropping time of 971 is 8.\n"
          ]
        }
      ]
    },
    {
      "cell_type": "code",
      "source": [
        "for num in range(23,1000,32): # n = 23(mod 32)\n",
        "  print(\"The dropping time of {} is {}.\".format(num, dropping_time(num)))"
      ],
      "metadata": {
        "colab": {
          "base_uri": "https://localhost:8080/"
        },
        "id": "dv65KZWEefUU",
        "outputId": "62e8a974-13a2-4fd1-93cd-333bfc3c47a3"
      },
      "execution_count": 19,
      "outputs": [
        {
          "output_type": "stream",
          "name": "stdout",
          "text": [
            "The dropping time of 23 is 8.\n",
            "The dropping time of 55 is 8.\n",
            "The dropping time of 87 is 8.\n",
            "The dropping time of 119 is 8.\n",
            "The dropping time of 151 is 8.\n",
            "The dropping time of 183 is 8.\n",
            "The dropping time of 215 is 8.\n",
            "The dropping time of 247 is 8.\n",
            "The dropping time of 279 is 8.\n",
            "The dropping time of 311 is 8.\n",
            "The dropping time of 343 is 8.\n",
            "The dropping time of 375 is 8.\n",
            "The dropping time of 407 is 8.\n",
            "The dropping time of 439 is 8.\n",
            "The dropping time of 471 is 8.\n",
            "The dropping time of 503 is 8.\n",
            "The dropping time of 535 is 8.\n",
            "The dropping time of 567 is 8.\n",
            "The dropping time of 599 is 8.\n",
            "The dropping time of 631 is 8.\n",
            "The dropping time of 663 is 8.\n",
            "The dropping time of 695 is 8.\n",
            "The dropping time of 727 is 8.\n",
            "The dropping time of 759 is 8.\n",
            "The dropping time of 791 is 8.\n",
            "The dropping time of 823 is 8.\n",
            "The dropping time of 855 is 8.\n",
            "The dropping time of 887 is 8.\n",
            "The dropping time of 919 is 8.\n",
            "The dropping time of 951 is 8.\n",
            "The dropping time of 983 is 8.\n"
          ]
        }
      ]
    },
    {
      "cell_type": "markdown",
      "source": [
        "If $n ≡ 1($mod $4)$, the dropping time will always be $3$.  This is because we can write $n$ as $4a+1$ for some integer $a$.  After one step, we have $3(4a+1)+1 = 12a + 4$ Since $12a +4$ is even, we next have $6a+2$ and then $3a + 1$.  Since $3a +1 < 4a +1$, the dropping time will always be $3$ for these integers.\n",
        "\n",
        "For $n ≡3($mod $4)$, the dropping times do not seem to follow any pattern.  However, if $n≡3($mod $16)$, the dropping time will always be $6$.  This is because we have $16a +3 → 3(16a+3)+1 = 48a + 10 → 24a+5 → 3(24a+5) +1 = 72a+16 → 36a +8 → 18a +4 → 9a+2.$\n",
        "\n",
        "Moreover, for $n ≡11($mod $32)$ and $n ≡23($mod $32)$, the dropping time of $n$ will always be $8$.\n"
      ],
      "metadata": {
        "id": "-kv72HZAj9_h"
      }
    },
    {
      "cell_type": "markdown",
      "source": [
        "### Changing $3n + 1$ to $3n - 1$ without changing the even/odd criteria\n"
      ],
      "metadata": {
        "id": "vbAxh-21n94h"
      }
    },
    {
      "cell_type": "markdown",
      "source": [
        "From the second section, we found that the $3n + 1$ conjecture does not apply to negative integers. However, is there any rule that applied for the negative numbers?  In this section, we will change the $3n + 1$ rule and explore it. \\\\\n",
        "\n",
        "For all **positive** integers $n$, \n",
        "$$\\begin{align}\n",
        "n_{k+1} & = \\frac{n_k}{2} & \\text{ if } n_k \\text{ is even,} \\\\\n",
        "n_{k+1} & = 3n_k + 1 &  \\text{ if } n_k \\text{ is odd.}\n",
        "\\end{align}$$\n",
        "\n",
        "Suppose the $3n + 1$ conjecture applies to all negative numbers, then \n",
        "\n",
        "$$\\begin{align}\n",
        "-n_{k+1} & = \\frac{-n_k}{2} & \\text{ if } n_k \\text{ is even,} \\\\\n",
        "-n_{k+1} & = 3(-n_k) + 1 &  \\text{ if } n_k \\text{ is odd.}\n",
        "\\end{align}$$\n",
        "\n",
        "Now we multiple both sides of the equations by $-1$, we obtain that, for all **negative** integers $n$,\n",
        "\n",
        "$$\\begin{align}\n",
        "n_{k+1} & = \\frac{n_k}{2} & \\text{ if } n_k \\text{ is even,} \\\\\n",
        "n_{k+1} & = 3n_k - 1 &  \\text{ if } n_k \\text{ is odd.}\n",
        "\\end{align}$$\n",
        "\n",
        "Now let us implement this conjecture in Python. "
      ],
      "metadata": {
        "id": "S4zViRqkdwP5"
      }
    },
    {
      "cell_type": "code",
      "source": [
        "def conjecture_3(n):\n",
        "\n",
        "  print(\"Let's start with {}.\".format(n))\n",
        "  i = 0 \n",
        "  \n",
        "  while n < -1: # n is a negative integer \n",
        "\n",
        "    i += 1 # loop \n",
        "\n",
        "    if n % 2 == 0: # n is even \n",
        "\n",
        "      new_n = n / 2\n",
        "      print(\"{} loop: {} / 2 = {}\".format(i, int(n), int(new_n)))\n",
        "      n = new_n\n",
        "\n",
        "    else: # n is odd\n",
        "\n",
        "      new_n = 3*n - 1\n",
        "      print(\"{} loop: 3 * {} - 1 = {}\".format(i, int(n), int(new_n)))\n",
        "      n = new_n"
      ],
      "metadata": {
        "id": "-ZaBzNcGeW9L"
      },
      "execution_count": 20,
      "outputs": []
    },
    {
      "cell_type": "code",
      "source": [
        "conjecture_3(-9)"
      ],
      "metadata": {
        "id": "p7jLOJFPe32b",
        "outputId": "e37288ef-1100-4124-fa52-08221d6a838e",
        "colab": {
          "base_uri": "https://localhost:8080/"
        }
      },
      "execution_count": 21,
      "outputs": [
        {
          "output_type": "stream",
          "name": "stdout",
          "text": [
            "Let's start with -9.\n",
            "1 loop: 3 * -9 - 1 = -28\n",
            "2 loop: -28 / 2 = -14\n",
            "3 loop: -14 / 2 = -7\n",
            "4 loop: 3 * -7 - 1 = -22\n",
            "5 loop: -22 / 2 = -11\n",
            "6 loop: 3 * -11 - 1 = -34\n",
            "7 loop: -34 / 2 = -17\n",
            "8 loop: 3 * -17 - 1 = -52\n",
            "9 loop: -52 / 2 = -26\n",
            "10 loop: -26 / 2 = -13\n",
            "11 loop: 3 * -13 - 1 = -40\n",
            "12 loop: -40 / 2 = -20\n",
            "13 loop: -20 / 2 = -10\n",
            "14 loop: -10 / 2 = -5\n",
            "15 loop: 3 * -5 - 1 = -16\n",
            "16 loop: -16 / 2 = -8\n",
            "17 loop: -8 / 2 = -4\n",
            "18 loop: -4 / 2 = -2\n",
            "19 loop: -2 / 2 = -1\n"
          ]
        }
      ]
    },
    {
      "cell_type": "markdown",
      "source": [
        "**Findings:**\\\n",
        "We notice that if we only change the rules from $3n+1$ to $3n-1$ for negative numbers, the sequence will eventually reach the cycle $-4,-2,-1....$, which is similar to the pattern for positive numbers."
      ],
      "metadata": {
        "id": "UoynBlsSxyXE"
      }
    },
    {
      "cell_type": "markdown",
      "source": [
        "### Changing $3n+1$ to $2n+1$ and $\\frac{n}{2}$ to $\\frac{n}{3}$ with changing the even/odd criteria\n",
        "\n"
      ],
      "metadata": {
        "id": "nbdBqhNMK0yl"
      }
    },
    {
      "cell_type": "markdown",
      "source": [
        "Here, we only consider positive integers n.\\\n",
        "Rules: any number not divisible by 3 will be replaced by $2n+1$, and any number divisible by 3 will be replaced by $\\frac{n}{3}$.\n",
        "\n",
        "$$\\begin{align}\n",
        "n_{k+1} & = 2n_k + 1 & \\text{ if } & n_k \\ mod \\ 3 \\neq 0\\\\\n",
        "n_{k+1} & =\\frac{n_k}{3} & \\text{ if } & n_k \\ mod \\ 3 = 0 \n",
        "\\end{align}$$"
      ],
      "metadata": {
        "id": "rD902Pf5PliJ"
      }
    },
    {
      "cell_type": "code",
      "source": [
        "for n in range(1, 101):\n",
        "  i = 0\n",
        "  m = n\n",
        "  while n !=1:\n",
        "    if n % 3 == 0:\n",
        "      n = n/3\n",
        "      i +=1 \n",
        "    else:\n",
        "      n = 2*n +1\n",
        "      i +=1\n",
        "    if i > 10000:\n",
        "      print(f\"The number {m} does not reach 1.\")\n",
        "      break\n",
        "  if i <= 10000:\n",
        "    print(f\"The number {m} takes {i} steps to reach 1.\")\n",
        "    "
      ],
      "metadata": {
        "colab": {
          "base_uri": "https://localhost:8080/"
        },
        "id": "NTkq90rWKFR-",
        "outputId": "6f7202ea-ecd3-44c5-bca8-010afd7e3389"
      },
      "execution_count": 22,
      "outputs": [
        {
          "output_type": "stream",
          "name": "stdout",
          "text": [
            "The number 1 takes 0 steps to reach 1.\n",
            "The number 2 does not reach 1.\n",
            "The number 3 takes 1 steps to reach 1.\n",
            "The number 4 takes 3 steps to reach 1.\n",
            "The number 5 does not reach 1.\n",
            "The number 6 does not reach 1.\n",
            "The number 7 does not reach 1.\n",
            "The number 8 does not reach 1.\n",
            "The number 9 takes 2 steps to reach 1.\n",
            "The number 10 does not reach 1.\n",
            "The number 11 does not reach 1.\n",
            "The number 12 takes 4 steps to reach 1.\n",
            "The number 13 takes 4 steps to reach 1.\n",
            "The number 14 does not reach 1.\n",
            "The number 15 does not reach 1.\n",
            "The number 16 does not reach 1.\n",
            "The number 17 does not reach 1.\n",
            "The number 18 does not reach 1.\n",
            "The number 19 takes 6 steps to reach 1.\n",
            "The number 20 does not reach 1.\n",
            "The number 21 does not reach 1.\n",
            "The number 22 does not reach 1.\n",
            "The number 23 does not reach 1.\n",
            "The number 24 does not reach 1.\n",
            "The number 25 does not reach 1.\n",
            "The number 26 does not reach 1.\n",
            "The number 27 takes 3 steps to reach 1.\n",
            "The number 28 takes 8 steps to reach 1.\n",
            "The number 29 does not reach 1.\n",
            "The number 30 does not reach 1.\n",
            "The number 31 does not reach 1.\n",
            "The number 32 does not reach 1.\n",
            "The number 33 does not reach 1.\n",
            "The number 34 does not reach 1.\n",
            "The number 35 does not reach 1.\n",
            "The number 36 takes 5 steps to reach 1.\n",
            "The number 37 does not reach 1.\n",
            "The number 38 does not reach 1.\n",
            "The number 39 takes 5 steps to reach 1.\n",
            "The number 40 takes 5 steps to reach 1.\n",
            "The number 41 does not reach 1.\n",
            "The number 42 does not reach 1.\n",
            "The number 43 does not reach 1.\n",
            "The number 44 does not reach 1.\n",
            "The number 45 does not reach 1.\n",
            "The number 46 does not reach 1.\n",
            "The number 47 does not reach 1.\n",
            "The number 48 does not reach 1.\n",
            "The number 49 does not reach 1.\n",
            "The number 50 does not reach 1.\n",
            "The number 51 does not reach 1.\n",
            "The number 52 does not reach 1.\n",
            "The number 53 does not reach 1.\n",
            "The number 54 does not reach 1.\n",
            "The number 55 does not reach 1.\n",
            "The number 56 does not reach 1.\n",
            "The number 57 takes 7 steps to reach 1.\n",
            "The number 58 takes 7 steps to reach 1.\n",
            "The number 59 does not reach 1.\n",
            "The number 60 does not reach 1.\n",
            "The number 61 does not reach 1.\n",
            "The number 62 does not reach 1.\n",
            "The number 63 does not reach 1.\n",
            "The number 64 does not reach 1.\n",
            "The number 65 does not reach 1.\n",
            "The number 66 does not reach 1.\n",
            "The number 67 does not reach 1.\n",
            "The number 68 does not reach 1.\n",
            "The number 69 does not reach 1.\n",
            "The number 70 does not reach 1.\n",
            "The number 71 does not reach 1.\n",
            "The number 72 does not reach 1.\n",
            "The number 73 does not reach 1.\n",
            "The number 74 does not reach 1.\n",
            "The number 75 does not reach 1.\n",
            "The number 76 does not reach 1.\n",
            "The number 77 does not reach 1.\n",
            "The number 78 does not reach 1.\n",
            "The number 79 does not reach 1.\n",
            "The number 80 does not reach 1.\n",
            "The number 81 takes 4 steps to reach 1.\n",
            "The number 82 does not reach 1.\n",
            "The number 83 does not reach 1.\n",
            "The number 84 takes 9 steps to reach 1.\n",
            "The number 85 takes 9 steps to reach 1.\n",
            "The number 86 does not reach 1.\n",
            "The number 87 does not reach 1.\n",
            "The number 88 does not reach 1.\n",
            "The number 89 does not reach 1.\n",
            "The number 90 does not reach 1.\n",
            "The number 91 does not reach 1.\n",
            "The number 92 does not reach 1.\n",
            "The number 93 does not reach 1.\n",
            "The number 94 does not reach 1.\n",
            "The number 95 does not reach 1.\n",
            "The number 96 does not reach 1.\n",
            "The number 97 does not reach 1.\n",
            "The number 98 does not reach 1.\n",
            "The number 99 does not reach 1.\n",
            "The number 100 does not reach 1.\n"
          ]
        }
      ]
    },
    {
      "cell_type": "markdown",
      "source": [
        "Here we notice that there exists a loop between 3 and 1.  It is also apparent from the code above that some numbers will never reach this loop and likely reach greater and greater integers.  In the code, we assumed that numbers that took more than 10000 steps to reach 1 would never do so, which is a  safe assumption for the first 100 integers. However, we can also prove this mathematically for some integers.  For example, numbers with remainder 2 modulo 3 will increase with every step.  Suppose $n = 3a +2$ for integer $a$.  Then after one step we have $2(3a+2)+1 = 6a +5$.  However, this is also equivalent to 2 modulo 3. Therefore, numbers in this equivalence class will never leave it and will become greater with every step.\n",
        "\n",
        "For numbers not in this equivalence class, behavior is quite unpredictable.  Numbers of the form $3a$ can reach any equivalence class after 1 step.  Numbers of the form $3a+1$ will reach the equivalence class of 0 modulo 3 after 1 step and therefore any equivalence class after 2 steps."
      ],
      "metadata": {
        "id": "Gmy_owDuPNgD"
      }
    },
    {
      "cell_type": "markdown",
      "source": [
        "###Changing the even/odd criteria"
      ],
      "metadata": {
        "id": "4OJ_U6kS2Zy3"
      }
    },
    {
      "cell_type": "markdown",
      "source": [
        "Begin with a positive integer n. If $n \\ mod \\ 3 = 0$, replace it by $3n+1$. If $n \\ mod \\ 3 = 1$, replace it by $3n-1$. If $n \\ mod \\ 3 = 2$, replace it by $n-3$. We will stop the sequence after it becomes negative.\n",
        "\n",
        "$$\\begin{align}\n",
        "n_{k+1} &= 3n_k + 1 & \\text{ if } & n_k \\ mod \\ 3 = 0\\\\\n",
        "n_{k+1} &= 3n_k - 1 & \\text{ if } & n_k \\ mod \\ 3 = 1\\\\\n",
        "n_{k+1} &= n - 3 & \\text{ if } & n_k \\ mod \\ 3 = 2\n",
        "\\end{align}$$"
      ],
      "metadata": {
        "id": "HVC4ohmh26zp"
      }
    },
    {
      "cell_type": "code",
      "source": [
        "def conjec_2(n):\n",
        "  list = []\n",
        "  while n > 0: #This step allows the sequence to stop after becoming negative.\n",
        "    if n > 100000:\n",
        "      print('The sequence doesnt reach the cycle.') #If the sequence continues increasing, we can stop it\n",
        "      break\n",
        "    else:\n",
        "      if n % 3 == 0: #if n mod 3 = 0\n",
        "        n = 3 * n + 1\n",
        "      elif n % 3 == 1: #if n mod 3 = 1\n",
        "        n = 3 * n - 1\n",
        "      else: #if n mod 3 = 2\n",
        "        n = n - 3\n",
        "      list.append(int(n)) #add the integer form of n into the empty list\n",
        "  return list"
      ],
      "metadata": {
        "id": "ag4XwqmZ8eIb"
      },
      "execution_count": 23,
      "outputs": []
    },
    {
      "cell_type": "code",
      "source": [
        "conjec_2(19)"
      ],
      "metadata": {
        "colab": {
          "base_uri": "https://localhost:8080/"
        },
        "id": "_WYjJRVP9kRB",
        "outputId": "c09ab8ed-bc7d-4807-b7c7-09b8dff27bfe"
      },
      "execution_count": 24,
      "outputs": [
        {
          "output_type": "execute_result",
          "data": {
            "text/plain": [
              "[56, 53, 50, 47, 44, 41, 38, 35, 32, 29, 26, 23, 20, 17, 14, 11, 8, 5, 2, -1]"
            ]
          },
          "metadata": {},
          "execution_count": 24
        }
      ]
    },
    {
      "cell_type": "code",
      "source": [
        "conjec_2(30)"
      ],
      "metadata": {
        "colab": {
          "base_uri": "https://localhost:8080/"
        },
        "id": "Cemqb4vtDH1c",
        "outputId": "2849994e-eeb6-4cf6-848e-b4824102a9a6"
      },
      "execution_count": 25,
      "outputs": [
        {
          "output_type": "execute_result",
          "data": {
            "text/plain": [
              "[91,\n",
              " 272,\n",
              " 269,\n",
              " 266,\n",
              " 263,\n",
              " 260,\n",
              " 257,\n",
              " 254,\n",
              " 251,\n",
              " 248,\n",
              " 245,\n",
              " 242,\n",
              " 239,\n",
              " 236,\n",
              " 233,\n",
              " 230,\n",
              " 227,\n",
              " 224,\n",
              " 221,\n",
              " 218,\n",
              " 215,\n",
              " 212,\n",
              " 209,\n",
              " 206,\n",
              " 203,\n",
              " 200,\n",
              " 197,\n",
              " 194,\n",
              " 191,\n",
              " 188,\n",
              " 185,\n",
              " 182,\n",
              " 179,\n",
              " 176,\n",
              " 173,\n",
              " 170,\n",
              " 167,\n",
              " 164,\n",
              " 161,\n",
              " 158,\n",
              " 155,\n",
              " 152,\n",
              " 149,\n",
              " 146,\n",
              " 143,\n",
              " 140,\n",
              " 137,\n",
              " 134,\n",
              " 131,\n",
              " 128,\n",
              " 125,\n",
              " 122,\n",
              " 119,\n",
              " 116,\n",
              " 113,\n",
              " 110,\n",
              " 107,\n",
              " 104,\n",
              " 101,\n",
              " 98,\n",
              " 95,\n",
              " 92,\n",
              " 89,\n",
              " 86,\n",
              " 83,\n",
              " 80,\n",
              " 77,\n",
              " 74,\n",
              " 71,\n",
              " 68,\n",
              " 65,\n",
              " 62,\n",
              " 59,\n",
              " 56,\n",
              " 53,\n",
              " 50,\n",
              " 47,\n",
              " 44,\n",
              " 41,\n",
              " 38,\n",
              " 35,\n",
              " 32,\n",
              " 29,\n",
              " 26,\n",
              " 23,\n",
              " 20,\n",
              " 17,\n",
              " 14,\n",
              " 11,\n",
              " 8,\n",
              " 5,\n",
              " 2,\n",
              " -1]"
            ]
          },
          "metadata": {},
          "execution_count": 25
        }
      ]
    },
    {
      "cell_type": "code",
      "source": [
        "def conjec_3(n): #create a new function that only returns the last number\n",
        "  list = []\n",
        "  while n > 0: #This step allows the sequence to stop after becoming negative.\n",
        "    if n > 100000:\n",
        "      print('The sequence doesnt reach the cycle.') #If the sequence continues increasing, we can stop it\n",
        "      break\n",
        "    else:\n",
        "      if n % 3 == 0: #if n mod 3 = 0\n",
        "        n = 3 * n + 1\n",
        "      elif n % 3 == 1: #if n mod 3 = 1\n",
        "        n = 3 * n - 1\n",
        "      else: #if n mod 3 = 2\n",
        "        n = n - 3\n",
        "      list.append(int(n)) #add the integer form of n into the empty list\n",
        "\n",
        "  return (\"The last number in this sequence is\", list[-1:-2:-1])"
      ],
      "metadata": {
        "id": "FInBmDyoC7EG"
      },
      "execution_count": 26,
      "outputs": []
    },
    {
      "cell_type": "code",
      "source": [
        "for x in range(100):\n",
        "  print(conjec_3(x))"
      ],
      "metadata": {
        "colab": {
          "base_uri": "https://localhost:8080/"
        },
        "id": "KapvhmaX-rqv",
        "outputId": "54cd672b-63c8-40f0-8402-854f2a52a231"
      },
      "execution_count": 27,
      "outputs": [
        {
          "output_type": "stream",
          "name": "stdout",
          "text": [
            "('The last number in this sequence is', [])\n",
            "('The last number in this sequence is', [-1])\n",
            "('The last number in this sequence is', [-1])\n",
            "('The last number in this sequence is', [-1])\n",
            "('The last number in this sequence is', [-1])\n",
            "('The last number in this sequence is', [-1])\n",
            "('The last number in this sequence is', [-1])\n",
            "('The last number in this sequence is', [-1])\n",
            "('The last number in this sequence is', [-1])\n",
            "('The last number in this sequence is', [-1])\n",
            "('The last number in this sequence is', [-1])\n",
            "('The last number in this sequence is', [-1])\n",
            "('The last number in this sequence is', [-1])\n",
            "('The last number in this sequence is', [-1])\n",
            "('The last number in this sequence is', [-1])\n",
            "('The last number in this sequence is', [-1])\n",
            "('The last number in this sequence is', [-1])\n",
            "('The last number in this sequence is', [-1])\n",
            "('The last number in this sequence is', [-1])\n",
            "('The last number in this sequence is', [-1])\n",
            "('The last number in this sequence is', [-1])\n",
            "('The last number in this sequence is', [-1])\n",
            "('The last number in this sequence is', [-1])\n",
            "('The last number in this sequence is', [-1])\n",
            "('The last number in this sequence is', [-1])\n",
            "('The last number in this sequence is', [-1])\n",
            "('The last number in this sequence is', [-1])\n",
            "('The last number in this sequence is', [-1])\n",
            "('The last number in this sequence is', [-1])\n",
            "('The last number in this sequence is', [-1])\n",
            "('The last number in this sequence is', [-1])\n",
            "('The last number in this sequence is', [-1])\n",
            "('The last number in this sequence is', [-1])\n",
            "('The last number in this sequence is', [-1])\n",
            "('The last number in this sequence is', [-1])\n",
            "('The last number in this sequence is', [-1])\n",
            "('The last number in this sequence is', [-1])\n",
            "('The last number in this sequence is', [-1])\n",
            "('The last number in this sequence is', [-1])\n",
            "('The last number in this sequence is', [-1])\n",
            "('The last number in this sequence is', [-1])\n",
            "('The last number in this sequence is', [-1])\n",
            "('The last number in this sequence is', [-1])\n",
            "('The last number in this sequence is', [-1])\n",
            "('The last number in this sequence is', [-1])\n",
            "('The last number in this sequence is', [-1])\n",
            "('The last number in this sequence is', [-1])\n",
            "('The last number in this sequence is', [-1])\n",
            "('The last number in this sequence is', [-1])\n",
            "('The last number in this sequence is', [-1])\n",
            "('The last number in this sequence is', [-1])\n",
            "('The last number in this sequence is', [-1])\n",
            "('The last number in this sequence is', [-1])\n",
            "('The last number in this sequence is', [-1])\n",
            "('The last number in this sequence is', [-1])\n",
            "('The last number in this sequence is', [-1])\n",
            "('The last number in this sequence is', [-1])\n",
            "('The last number in this sequence is', [-1])\n",
            "('The last number in this sequence is', [-1])\n",
            "('The last number in this sequence is', [-1])\n",
            "('The last number in this sequence is', [-1])\n",
            "('The last number in this sequence is', [-1])\n",
            "('The last number in this sequence is', [-1])\n",
            "('The last number in this sequence is', [-1])\n",
            "('The last number in this sequence is', [-1])\n",
            "('The last number in this sequence is', [-1])\n",
            "('The last number in this sequence is', [-1])\n",
            "('The last number in this sequence is', [-1])\n",
            "('The last number in this sequence is', [-1])\n",
            "('The last number in this sequence is', [-1])\n",
            "('The last number in this sequence is', [-1])\n",
            "('The last number in this sequence is', [-1])\n",
            "('The last number in this sequence is', [-1])\n",
            "('The last number in this sequence is', [-1])\n",
            "('The last number in this sequence is', [-1])\n",
            "('The last number in this sequence is', [-1])\n",
            "('The last number in this sequence is', [-1])\n",
            "('The last number in this sequence is', [-1])\n",
            "('The last number in this sequence is', [-1])\n",
            "('The last number in this sequence is', [-1])\n",
            "('The last number in this sequence is', [-1])\n",
            "('The last number in this sequence is', [-1])\n",
            "('The last number in this sequence is', [-1])\n",
            "('The last number in this sequence is', [-1])\n",
            "('The last number in this sequence is', [-1])\n",
            "('The last number in this sequence is', [-1])\n",
            "('The last number in this sequence is', [-1])\n",
            "('The last number in this sequence is', [-1])\n",
            "('The last number in this sequence is', [-1])\n",
            "('The last number in this sequence is', [-1])\n",
            "('The last number in this sequence is', [-1])\n",
            "('The last number in this sequence is', [-1])\n",
            "('The last number in this sequence is', [-1])\n",
            "('The last number in this sequence is', [-1])\n",
            "('The last number in this sequence is', [-1])\n",
            "('The last number in this sequence is', [-1])\n",
            "('The last number in this sequence is', [-1])\n",
            "('The last number in this sequence is', [-1])\n",
            "('The last number in this sequence is', [-1])\n",
            "('The last number in this sequence is', [-1])\n"
          ]
        }
      ]
    },
    {
      "cell_type": "markdown",
      "source": [
        "**Findings:**\\\n",
        "If we change the conjecture in this way, no matter what positive integers we pick, the sequence will always follow the same \"route\" and end at -1."
      ],
      "metadata": {
        "id": "WPTKfWq4DOGI"
      }
    }
  ]
}